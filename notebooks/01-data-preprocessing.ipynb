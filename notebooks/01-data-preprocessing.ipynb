{
 "cells": [
  {
   "cell_type": "code",
   "execution_count": null,
   "id": "c4e302f7",
   "metadata": {},
   "outputs": [],
   "source": [
    "# Notebook 1: Data Preprocessing"
   ]
  },
  {
   "cell_type": "code",
   "execution_count": null,
   "id": "d46b60f9",
   "metadata": {},
   "outputs": [],
   "source": [
    "import pandas as pd\n",
    "import numpy as np"
   ]
  },
  {
   "cell_type": "code",
   "execution_count": null,
   "id": "3a69eb7e",
   "metadata": {},
   "outputs": [],
   "source": [
    "# Load simulated data\n",
    "df = pd.read_csv('../data/simulated_data.csv')\n",
    "df.head()"
   ]
  },
  {
   "cell_type": "code",
   "execution_count": null,
   "id": "f7c0d3d0",
   "metadata": {},
   "outputs": [],
   "source": [
    "# Check for missing values\n",
    "print(df.isnull().sum())"
   ]
  },
  {
   "cell_type": "code",
   "execution_count": null,
   "id": "9624d25f",
   "metadata": {},
   "outputs": [],
   "source": [
    "# Fill missing values if any (optional)\n",
    "df.fillna(method='ffill', inplace=True)"
   ]
  },
  {
   "cell_type": "code",
   "execution_count": null,
   "id": "7c1d1de1",
   "metadata": {},
   "outputs": [],
   "source": [
    "# Normalize heart_rate and blood_oxygen columns\n",
    "from sklearn.preprocessing import MinMaxScaler\n",
    "scaler = MinMaxScaler()\n",
    "df[['heart_rate', 'blood_oxygen']] = scaler.fit_transform(df[['heart_rate', 'blood_oxygen']])"
   ]
  },
  {
   "cell_type": "code",
   "execution_count": null,
   "id": "df33efe0",
   "metadata": {},
   "outputs": [],
   "source": [
    "# Save the cleaned and normalized data\n",
    "df.to_csv('../data/cleaned_simulated_data.csv', index=False)\n",
    "print('Preprocessing complete and data saved.')"
   ]
  }
 ],
 "metadata": {},
 "nbformat": 4,
 "nbformat_minor": 5
}