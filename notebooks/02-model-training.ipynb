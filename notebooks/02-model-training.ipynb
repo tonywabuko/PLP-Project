# 02-model-training.ipynb - placeholder content
# 02-model-training.ipynb

import pandas as pd
from sklearn.ensemble import IsolationForest
import joblib

# Load sample data
df = pd.read_csv('../data/simulated_data.csv')

# Features for anomaly detection
X = df[
    ['heart_rate', 'blood_oxygen'
    ]
]

# Train Isolation Forest
model = IsolationForest(contamination=0.2, random_state=42)
model.fit(X)

# Save model
joblib.dump(model, '../models/isolation_forest.pkl')

print("Model trained and saved!")

