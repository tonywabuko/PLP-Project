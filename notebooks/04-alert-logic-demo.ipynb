{
 "cells": [
  {
   "cell_type": "code",
   "execution_count": null,
   "id": "f4e38236",
   "metadata": {},
   "outputs": [],
   "source": [
    "# Alert Logic Simulation"
   ]
  },
  {
   "cell_type": "code",
   "execution_count": null,
   "id": "aecbecfe",
   "metadata": {},
   "outputs": [],
   "source": [
    "from app.alerts import send_alert"
   ]
  },
  {
   "cell_type": "code",
   "execution_count": null,
   "id": "3e73c3df",
   "metadata": {},
   "outputs": [],
   "source": [
    "# Simulate risk level\n",
    "risk = 'CRITICAL'\n",
    "missed_doses = 4"
   ]
  },
  {
   "cell_type": "code",
   "execution_count": null,
   "id": "76d2e49a",
   "metadata": {},
   "outputs": [],
   "source": [
    "if risk == 'CRITICAL':\n",
    "    message = f\"[ALERT] Patient in critical condition. Missed doses: {missed_doses}\"\n",
    "    sid = send_alert(message)\n",
    "    print('Alert sent. Message SID:', sid)\n",
    "else:\n",
    "    print('Patient stable, no alert triggered.')"
   ]
  }
 ],
 "metadata": {},
 "nbformat": 4,
 "nbformat_minor": 5
}