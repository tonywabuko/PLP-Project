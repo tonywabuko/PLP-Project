# 03-anomaly-detection.ipynb - placeholder content
# 03-anomaly-detection.ipynb

import pandas as pd
import joblib

# Load model
model = joblib.load('../models/isolation_forest.pkl')

# Load new data
df = pd.read_csv('../data/simulated_data.csv')

# Predict anomalies
X = df[
    ['heart_rate', 'blood_oxygen'
    ]
]
df['anomaly'
] = model.predict(X)
df['anomaly'
] = df['anomaly'
].apply(lambda x: 'Anomaly' if x == -1 else 'Normal')

print(df[
    ['timestamp', 'heart_rate', 'blood_oxygen', 'anomaly'
    ]
])

