{
 "cells": [
  {
   "cell_type": "code",
   "execution_count": null,
   "id": "94a075b6",
   "metadata": {},
   "outputs": [],
   "source": [
    "# Anomaly Detection Demo"
   ]
  },
  {
   "cell_type": "code",
   "execution_count": null,
   "id": "10d56da2",
   "metadata": {},
   "outputs": [],
   "source": [
    "import pandas as pd\n",
    "import joblib"
   ]
  },
  {
   "cell_type": "code",
   "execution_count": null,
   "id": "fdfb1f47",
   "metadata": {},
   "outputs": [],
   "source": [
    "# Load model and data\n",
    "model = joblib.load('../models/isolation_forest.pkl')\n",
    "df = pd.read_csv('../data/simulated_data.csv')"
   ]
  },
  {
   "cell_type": "code",
   "execution_count": null,
   "id": "20f154ec",
   "metadata": {},
   "outputs": [],
   "source": [
    "# Predict anomalies\n",
    "X = df[['heart_rate', 'blood_oxygen']]\n",
    "df['anomaly'] = model.predict(X)\n",
    "df['anomaly'] = df['anomaly'].apply(lambda x: 'Anomaly' if x == -1 else 'Normal')"
   ]
  },
  {
   "cell_type": "code",
   "execution_count": null,
   "id": "169ba37c",
   "metadata": {},
   "outputs": [],
   "source": [
    "print(df[['timestamp', 'heart_rate', 'blood_oxygen', 'anomaly']])"
   ]
  }
 ],
 "metadata": {},
 "nbformat": 4,
 "nbformat_minor": 5
}