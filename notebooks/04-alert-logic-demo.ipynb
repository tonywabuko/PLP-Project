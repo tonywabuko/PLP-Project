# 04-alert-logic-demo.ipynb - placeholder content

# 04-alert-logic-demo.ipynb

from app.alerts import send_alert

# Simulate a critical situation
risk = "CRITICAL"
missed_doses = 4

if risk == "CRITICAL":
    message = f"[ALERT] Patient in critical condition. Missed doses: {missed_doses}"
    sid = send_alert(message)
    print("Alert sent. Message SID:", sid)
else:
    print("Patient stable, no alert triggered.")

